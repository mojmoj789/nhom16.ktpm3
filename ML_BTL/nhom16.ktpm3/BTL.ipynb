{
 "cells": [
  {
   "cell_type": "markdown",
   "id": "b0fd8ce4",
   "metadata": {},
   "source": [
    "# Dự đoán giá nhà sử dụng Hồi quy, Ridge, Neural Network và Stacking"
   ]
  },
  {
   "cell_type": "code",
   "execution_count": null,
   "id": "6bf94100",
   "metadata": {},
   "outputs": [],
   "source": [
    "\n",
    "import numpy as np\n",
    "import pandas as pd\n",
    "import pickle\n",
    "import matplotlib.pyplot as plt\n",
    "from sklearn.model_selection import train_test_split\n",
    "from sklearn.linear_model import LinearRegression, Ridge\n",
    "from sklearn.neural_network import MLPRegressor\n",
    "from sklearn.ensemble import StackingRegressor\n",
    "from sklearn.preprocessing import StandardScaler\n",
    "from sklearn.metrics import mean_squared_error, r2_score\n"
   ]
  },
  {
   "cell_type": "markdown",
   "id": "af9223fc",
   "metadata": {},
   "source": [
    "## 1. Tiền xử lý dữ liệu"
   ]
  },
  {
   "cell_type": "code",
   "execution_count": null,
   "id": "2c1e8773",
   "metadata": {},
   "outputs": [],
   "source": [
    "\n",
    "# Đọc dữ liệu từ file\n",
    "df = pd.read_csv('/ML_BTL/dataset4.csv')\n",
    "\n",
    "# Chia dữ liệu thành features (biến độc lập) và target (biến phụ thuộc)\n",
    "X = df.drop(columns=['PRICE'])  # Các đặc trưng\n",
    "y = df['PRICE']  # Biến mục tiêu là giá nhà\n",
    "\n",
    "# Kiểm tra và xử lý giá trị thiếu (nếu có)\n",
    "if df.isnull().sum().any():\n",
    "    X.fillna(X.mean(), inplace=True)\n",
    "\n",
    "# Chia dữ liệu thành tập huấn luyện (80%) và tập kiểm tra (20%)\n",
    "X_train, X_test, y_train, y_test = train_test_split(X, y, test_size=0.2, random_state=42)\n",
    "\n",
    "# Chuẩn hóa dữ liệu\n",
    "scaler = StandardScaler()\n",
    "X_train_scaled = scaler.fit_transform(X_train)\n",
    "X_test_scaled = scaler.transform(X_test)\n"
   ]
  },
  {
   "cell_type": "markdown",
   "id": "8cfc7c39",
   "metadata": {},
   "source": [
    "## 2. Hồi quy tuyến tính (Linear Regression)"
   ]
  },
  {
   "cell_type": "code",
   "execution_count": null,
   "id": "47225e24",
   "metadata": {},
   "outputs": [],
   "source": [
    "\n",
    "# Huấn luyện mô hình Linear Regression\n",
    "linear_regressor = LinearRegression()\n",
    "linear_regressor.fit(X_train_scaled, y_train)\n",
    "\n",
    "# Dự đoán\n",
    "y_pred_linear = linear_regressor.predict(X_test_scaled)\n",
    "\n",
    "# Đánh giá mô hình\n",
    "mse_linear = mean_squared_error(y_test, y_pred_linear)\n",
    "r2_linear = r2_score(y_test, y_pred_linear)\n",
    "\n",
    "print(f\"Linear Regression - Mean Squared Error (MSE): {mse_linear}\")\n",
    "print(f\"Linear Regression - R² Score: {r2_linear}\")\n"
   ]
  },
  {
   "cell_type": "markdown",
   "id": "9b2764ff",
   "metadata": {},
   "source": [
    "## 3. Hồi quy Ridge (Ridge Regression)"
   ]
  },
  {
   "cell_type": "code",
   "execution_count": null,
   "id": "c02ae481",
   "metadata": {},
   "outputs": [],
   "source": [
    "\n",
    "# Huấn luyện mô hình Ridge Regression\n",
    "ridge_regressor = Ridge(alpha=1.0)\n",
    "ridge_regressor.fit(X_train_scaled, y_train)\n",
    "\n",
    "# Dự đoán\n",
    "y_pred_ridge = ridge_regressor.predict(X_test_scaled)\n",
    "\n",
    "# Đánh giá mô hình\n",
    "mse_ridge = mean_squared_error(y_test, y_pred_ridge)\n",
    "r2_ridge = r2_score(y_test, y_pred_ridge)\n",
    "\n",
    "print(f\"Ridge Regression - Mean Squared Error (MSE): {mse_ridge}\")\n",
    "print(f\"Ridge Regression - R² Score: {r2_ridge}\")\n"
   ]
  },
  {
   "cell_type": "markdown",
   "id": "af6af4da",
   "metadata": {},
   "source": [
    "## 4. Mạng nơ-ron (Neural Network - MLPRegressor)"
   ]
  },
  {
   "cell_type": "code",
   "execution_count": null,
   "id": "fa29e439",
   "metadata": {},
   "outputs": [],
   "source": [
    "\n",
    "# Huấn luyện mô hình MLP Regressor\n",
    "mlp_regressor = MLPRegressor(hidden_layer_sizes=(50, 50), max_iter=2000, learning_rate_init=0.0005, random_state=42)\n",
    "mlp_regressor.fit(X_train_scaled, y_train)\n",
    "\n",
    "# Dự đoán\n",
    "y_pred_mlp = mlp_regressor.predict(X_test_scaled)\n",
    "\n",
    "# Đánh giá mô hình\n",
    "mse_mlp = mean_squared_error(y_test, y_pred_mlp)\n",
    "r2_mlp = r2_score(y_test, y_pred_mlp)\n",
    "\n",
    "print(f\"MLP Regressor - Mean Squared Error (MSE): {mse_mlp}\")\n",
    "print(f\"MLP Regressor - R² Score: {r2_mlp}\")\n"
   ]
  },
  {
   "cell_type": "markdown",
   "id": "33a11a93",
   "metadata": {},
   "source": [
    "## 5. Stacking Regressor"
   ]
  },
  {
   "cell_type": "code",
   "execution_count": null,
   "id": "faf2fef7",
   "metadata": {},
   "outputs": [],
   "source": [
    "\n",
    "# Xây dựng mô hình Stacking\n",
    "base_models = [\n",
    "    ('linear', LinearRegression()),\n",
    "    ('ridge', Ridge(alpha=1.0)),\n",
    "    ('mlp', MLPRegressor(hidden_layer_sizes=(50, 50), max_iter=2000, learning_rate_init=0.0005, random_state=42))\n",
    "]\n",
    "\n",
    "final_model = Ridge()\n",
    "\n",
    "# Stacking Regressor\n",
    "stacking_regressor = StackingRegressor(estimators=base_models, final_estimator=final_model)\n",
    "stacking_regressor.fit(X_train_scaled, y_train)\n",
    "\n",
    "# Dự đoán\n",
    "y_pred_stacking = stacking_regressor.predict(X_test_scaled)\n",
    "\n",
    "# Đánh giá mô hình\n",
    "mse_stacking = mean_squared_error(y_test, y_pred_stacking)\n",
    "r2_stacking = r2_score(y_test, y_pred_stacking)\n",
    "\n",
    "print(f\"Stacking Regressor - Mean Squared Error (MSE): {mse_stacking}\")\n",
    "print(f\"Stacking Regressor - R² Score: {r2_stacking}\")\n"
   ]
  },
  {
   "cell_type": "markdown",
   "id": "4f153b75",
   "metadata": {},
   "source": [
    "## 6. Đánh giá và lưu kết quả"
   ]
  },
  {
   "cell_type": "code",
   "execution_count": null,
   "id": "88422939",
   "metadata": {},
   "outputs": [],
   "source": [
    "\n",
    "# Tạo DataFrame để theo dõi quá trình đánh giá mô hình\n",
    "evaluation_df = pd.DataFrame(columns=['Model', 'MSE', 'R² Score'])\n",
    "\n",
    "def add_to_evaluation(model_name, mse, r2):\n",
    "    evaluation_df.loc[len(evaluation_df)] = [model_name, mse, r2]\n",
    "\n",
    "# Thêm kết quả của từng mô hình vào DataFrame\n",
    "add_to_evaluation('Linear Regression', mse_linear, r2_linear)\n",
    "add_to_evaluation('Ridge Regression', mse_ridge, r2_ridge)\n",
    "add_to_evaluation('MLP Regressor', mse_mlp, r2_mlp)\n",
    "add_to_evaluation('Stacking Regressor', mse_stacking, r2_stacking)\n",
    "\n",
    "# Xuất kết quả ra file CSV\n",
    "evaluation_df.to_csv('model_evaluation.csv', index=False)\n",
    "\n",
    "# Hiển thị kết quả\n",
    "print(evaluation_df)\n"
   ]
  },
  {
   "cell_type": "markdown",
   "id": "4193b565",
   "metadata": {},
   "source": [
    "## 7. Vẽ biểu đồ Giá thực tế vs Giá dự đoán"
   ]
  },
  {
   "cell_type": "code",
   "execution_count": null,
   "id": "e7f7e245",
   "metadata": {},
   "outputs": [],
   "source": [
    "\n",
    "plt.figure(figsize=(10, 6))\n",
    "plt.plot(y_test.values, label='Giá thực tế', color='blue', marker='o')\n",
    "plt.plot(y_pred_stacking, label='Giá dự đoán (Stacking)', color='red', marker='x')\n",
    "plt.title('Giá thực tế vs Giá dự đoán')\n",
    "plt.xlabel('Mẫu')\n",
    "plt.ylabel('Giá nhà')\n",
    "plt.legend()\n",
    "plt.show()\n"
   ]
  }
 ],
 "metadata": {},
 "nbformat": 4,
 "nbformat_minor": 5
}
